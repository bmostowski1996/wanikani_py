{
 "cells": [
  {
   "cell_type": "code",
   "execution_count": 21,
   "id": "a613e8b4",
   "metadata": {},
   "outputs": [],
   "source": [
    "import requests\n",
    "import json\n",
    "import datetime\n",
    "from pprint import pprint"
   ]
  },
  {
   "cell_type": "markdown",
   "id": "d2455e82",
   "metadata": {},
   "source": [
    "The definition of wanikani_req is due to trunklayer. (See https://community.wanikani.com/t/python-api-call-headers-problem/45614/2)"
   ]
  },
  {
   "cell_type": "code",
   "execution_count": 132,
   "id": "1c215a6c",
   "metadata": {},
   "outputs": [],
   "source": [
    "def wanikani_req(token, endpoint):\n",
    "    \n",
    "    address = 'https://api.wanikani.com/v2'\n",
    "\n",
    "    headers = {\n",
    "        'Authorization': f'Bearer {token}'\n",
    "    }\n",
    "\n",
    "    with requests.get(f'{address}/{endpoint}', headers=headers) as r:\n",
    "        response = r.json()\n",
    "    #pprint(response)\n",
    "    \n",
    "    return response\n"
   ]
  },
  {
   "cell_type": "code",
   "execution_count": 174,
   "id": "067816b7",
   "metadata": {},
   "outputs": [],
   "source": [
    "def wanikani_oldies(days):\n",
    "    #FUNCTION DESCRIPTION:\n",
    "    #Return all assignments that were started some days ago that have NOT been burned\n",
    "    \n",
    "    #INITIAL VARIABLE ASSIGNMENT:\n",
    "    token = '4f49ff34-8e3c-453b-9e5f-180ccf162779'\n",
    "    endpoint = 'assignments?started=true'\n",
    "    assignment_arr = []\n",
    "    \n",
    "    \n",
    "    #ACQUIRING THE RESOURCES\n",
    "    #First, let's get a list of all the requests. Unfortunately, we are limited to 500 resources returned for collection endpoints\n",
    "    #This means if there's more than 500 resources we need to return, we need to navigate Wanikani's pagination system.\n",
    "    req = wanikani_req(token, endpoint)\n",
    "    requests_to_get = req['total_count']\n",
    "    \n",
    "    print(\"TOTAL REQUESTS TO GET: \" + str(requests_to_get))\n",
    "    \n",
    "    assignment_arr = assignment_arr + req['data']\n",
    "    requests_to_get = requests_to_get - len(req['data'])\n",
    "    \n",
    "    print(\"After batch 1 added...\")\n",
    "    print(\"TOTAL REQUESTS TO GET: \" + str(requests_to_get))\n",
    "    \n",
    "    i = 1\n",
    "    while requests_to_get > 0:\n",
    "        i = i + 1\n",
    "        \n",
    "        #Now, access the info we need for the next page\n",
    "        page_info = req['pages']['next_url'][40:40+24]\n",
    "        \n",
    "        #And modify the endpoint\n",
    "        endpoint = 'assignments?' + page_info + 'started=true'\n",
    "        \n",
    "        #Now, make a request with the new endpoint\n",
    "        req = wanikani_req(token, endpoint)\n",
    "        assignment_arr = assignment_arr + req['data']\n",
    "        requests_to_get = requests_to_get - len(req['data'])\n",
    "        \n",
    "        print(\"After batch \" + str(i) + \" added... \")\n",
    "        print(\"TOTAL REQUESTS TO GET: \" + str(requests_to_get))\n",
    "    \n",
    "    \n",
    "    #FILTERING THE RESOURCES\n",
    "    #Now, Determine of the resources we pulled, which ones correspond to assignments we started long enough ago that\n",
    "    #have NOT yet been burned. These are the ones we need to study harder!\n",
    "    current_datetime = datetime.datetime.now()\n",
    "    cutoff_line = current_datetime - datetime.timedelta(days = days)\n",
    "    \n",
    "    date_str = cutoff_line.strftime(\"%Y-%m-%d\")\n",
    "    time_str = cutoff_line.strftime(\"%H:%M:%S\")\n",
    "\n",
    "    print(\"Cutoff date: \" + date_str + \" \" + time_str)\n",
    "    \n",
    "    return_arr = []\n",
    "    for val in assignment_arr:\n",
    "        date_str = val['data']['started_at']\n",
    "        date_str_1 = date_str[0:10] + ' ' + date_str[11:11+8]\n",
    "        date_format = \"%Y-%m-%d %H:%M:%S\"\n",
    "        datetime_obj = datetime.datetime.strptime(date_str_1, date_format)\n",
    "        \n",
    "        if str(val['data']['burned_at']) == 'None' and datetime_obj <= cutoff_line:\n",
    "            print(\"Added resource that was started at \" + date_str_1)\n",
    "            return_arr.append(val)\n",
    "        \n",
    "        #print(\"New length of array: \" + str(len(return_arr)))\n",
    "            \n",
    "    return return_arr"
   ]
  },
  {
   "cell_type": "code",
   "execution_count": 177,
   "id": "a4bd4ed3",
   "metadata": {},
   "outputs": [
    {
     "name": "stdout",
     "output_type": "stream",
     "text": [
      "TOTAL REQUESTS TO GET: 2116\n",
      "After batch 1 added...\n",
      "TOTAL REQUESTS TO GET: 1616\n",
      "After batch 2 added... \n",
      "TOTAL REQUESTS TO GET: 1116\n",
      "After batch 3 added... \n",
      "TOTAL REQUESTS TO GET: 616\n",
      "After batch 4 added... \n",
      "TOTAL REQUESTS TO GET: 116\n",
      "After batch 5 added... \n",
      "TOTAL REQUESTS TO GET: 0\n",
      "Cutoff date: 2022-05-03 00:29:12\n",
      "Added resource that was started at 2021-10-13 04:22:19\n",
      "Added resource that was started at 2021-10-10 02:53:34\n",
      "Added resource that was started at 2021-10-09 23:03:56\n",
      "Added resource that was started at 2021-10-27 02:02:42\n",
      "Added resource that was started at 2021-11-17 04:28:29\n",
      "Added resource that was started at 2021-11-24 15:18:14\n",
      "Added resource that was started at 2021-11-16 07:05:12\n",
      "Added resource that was started at 2021-11-16 07:05:18\n",
      "Added resource that was started at 2021-11-24 15:18:29\n",
      "Added resource that was started at 2021-11-28 21:39:00\n",
      "Added resource that was started at 2021-11-28 21:38:57\n",
      "Added resource that was started at 2021-11-28 21:38:42\n",
      "Added resource that was started at 2021-11-28 21:58:15\n",
      "Added resource that was started at 2021-11-28 22:09:58\n",
      "Added resource that was started at 2021-11-24 14:47:52\n",
      "Added resource that was started at 2022-01-15 18:33:39\n",
      "Added resource that was started at 2022-01-26 05:59:16\n",
      "Added resource that was started at 2022-02-01 03:01:41\n",
      "Added resource that was started at 2022-01-31 05:00:12\n",
      "Added resource that was started at 2022-02-14 02:13:58\n",
      "Added resource that was started at 2022-02-14 02:13:55\n",
      "Added resource that was started at 2022-02-01 03:03:02\n",
      "Added resource that was started at 2022-02-01 03:03:04\n",
      "Added resource that was started at 2022-02-01 03:04:42\n",
      "Added resource that was started at 2022-02-03 21:00:50\n",
      "Added resource that was started at 2022-02-14 02:05:29\n",
      "Added resource that was started at 2022-02-14 02:05:40\n",
      "Added resource that was started at 2022-02-21 02:45:39\n",
      "Added resource that was started at 2022-02-22 05:55:20\n",
      "Added resource that was started at 2022-04-29 00:38:03\n",
      "Added resource that was started at 2022-04-28 22:21:17\n",
      "Added resource that was started at 2022-04-29 00:57:42\n",
      "Added resource that was started at 2022-02-25 03:43:23\n",
      "Added resource that was started at 2022-03-04 20:20:02\n",
      "Added resource that was started at 2022-02-25 03:42:49\n",
      "Added resource that was started at 2022-02-26 00:23:44\n",
      "Added resource that was started at 2022-03-03 04:28:55\n",
      "Added resource that was started at 2022-03-03 04:28:58\n",
      "Added resource that was started at 2022-03-07 04:22:55\n",
      "Added resource that was started at 2022-04-29 00:57:41\n",
      "Added resource that was started at 2022-04-29 00:51:58\n",
      "Added resource that was started at 2022-04-28 22:15:48\n",
      "Added resource that was started at 2022-04-28 22:31:40\n"
     ]
    },
    {
     "data": {
      "text/plain": [
       "43"
      ]
     },
     "execution_count": 177,
     "metadata": {},
     "output_type": "execute_result"
    }
   ],
   "source": [
    "assignments = wanikani_oldies(300)"
   ]
  },
  {
   "cell_type": "code",
   "execution_count": 102,
   "id": "c741417d",
   "metadata": {},
   "outputs": [
    {
     "data": {
      "text/plain": [
       "24"
      ]
     },
     "execution_count": 102,
     "metadata": {},
     "output_type": "execute_result"
    }
   ],
   "source": [
    "len('https://api.wanikani.com/v2/assignments?')\n",
    "len('page_after_id=283400700&')"
   ]
  },
  {
   "cell_type": "code",
   "execution_count": null,
   "id": "c06623ea",
   "metadata": {},
   "outputs": [],
   "source": [
    "token = '4f49ff34-8e3c-453b-9e5f-180ccf162779'\n",
    "endpoint = 'assignments'"
   ]
  },
  {
   "cell_type": "code",
   "execution_count": 24,
   "id": "09a77f98",
   "metadata": {},
   "outputs": [
    {
     "name": "stdout",
     "output_type": "stream",
     "text": [
      "Current date: 2023-02-26\n",
      "Current time: 22:18:42\n"
     ]
    }
   ],
   "source": [
    "current_datetime = datetime.datetime.now()\n",
    "\n",
    "date_str = current_datetime.strftime(\"%Y-%m-%d\")\n",
    "time_str = current_datetime.strftime(\"%H:%M:%S\")\n",
    "\n",
    "print(\"Current date:\", date_str)\n",
    "print(\"Current time:\", time_str)"
   ]
  },
  {
   "cell_type": "code",
   "execution_count": 121,
   "id": "579dc0c8",
   "metadata": {},
   "outputs": [
    {
     "data": {
      "text/plain": [
       "datetime.datetime(2022, 8, 30, 23, 23, 53, 840107)"
      ]
     },
     "execution_count": 121,
     "metadata": {},
     "output_type": "execute_result"
    }
   ],
   "source": [
    "current_datetime = datetime.datetime.now()\n",
    "current_datetime - datetime.timedelta(days = 180)"
   ]
  },
  {
   "cell_type": "code",
   "execution_count": 126,
   "id": "089dd24a",
   "metadata": {},
   "outputs": [
    {
     "data": {
      "text/plain": [
       "datetime.datetime(2021, 10, 27, 2, 37, 38)"
      ]
     },
     "execution_count": 126,
     "metadata": {},
     "output_type": "execute_result"
    }
   ],
   "source": [
    "date_str = '2021-10-27T02:37:38.705429Z'\n",
    "date_str_1 = date_str[0:10] + ' ' + date_str[11:11+8]\n",
    "date_format = \"%Y-%m-%d %H:%M:%S\"\n",
    "\n",
    "datetime_obj = datetime.datetime.strptime(date_str_1, date_format)\n",
    "datetime_obj"
   ]
  },
  {
   "cell_type": "code",
   "execution_count": null,
   "id": "2aacb644",
   "metadata": {},
   "outputs": [],
   "source": []
  }
 ],
 "metadata": {
  "kernelspec": {
   "display_name": "Python 3 (ipykernel)",
   "language": "python",
   "name": "python3"
  },
  "language_info": {
   "codemirror_mode": {
    "name": "ipython",
    "version": 3
   },
   "file_extension": ".py",
   "mimetype": "text/x-python",
   "name": "python",
   "nbconvert_exporter": "python",
   "pygments_lexer": "ipython3",
   "version": "3.9.12"
  }
 },
 "nbformat": 4,
 "nbformat_minor": 5
}
